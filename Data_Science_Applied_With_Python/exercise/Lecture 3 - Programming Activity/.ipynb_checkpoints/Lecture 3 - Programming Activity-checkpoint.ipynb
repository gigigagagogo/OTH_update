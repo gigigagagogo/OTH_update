{
 "cells": [
  {
   "cell_type": "markdown",
   "metadata": {},
   "source": [
    "## Lecture 3 - Programming Activity\n",
    "\n",
    "### Activity 1 - Write a function that takes a filename as input.\n",
    "\n",
    "You will be using the **bill_of_rights.txt** located in the **data** folder for this activity. Write a function that takes the filename as input and finds the total number of lines, words and most frequent word in the file and writes these statistics into a file named **‘stats.txt’**."
   ]
  },
  {
   "cell_type": "code",
   "execution_count": 6,
   "metadata": {},
   "outputs": [
    {
     "name": "stdout",
     "output_type": "stream",
     "text": [
      "Number of lines in file: 53\n"
     ]
    }
   ],
   "source": [
    "## Start Code\n",
    "\n",
    "def nline(file):\n",
    "    c = 0\n",
    "    for line in file:\n",
    "        c = file.readlines()\n",
    "    print(\"Number of lines in file:\", len(c))\n",
    "\n",
    "with open(\"./data/bill_of_rights.txt\",\"r\") as f:\n",
    "    nline(f);\n",
    "    \n",
    "\n",
    "\n",
    "## End Code"
   ]
  },
  {
   "cell_type": "markdown",
   "metadata": {},
   "source": [
    "### Activity 2 - Parse a file to produce a list\n",
    "\n",
    "You will be using the file **gps.csv** located in the **data** folder for this activity. Parse the file and produce a list of coordinates (**lat** and **lon**) along with the **unix timestamp** of their visit."
   ]
  },
  {
   "cell_type": "code",
   "execution_count": 13,
   "metadata": {},
   "outputs": [
    {
     "name": "stdout",
     "output_type": "stream",
     "text": [
      "['lat', 'long']\n",
      "['40.78966141', '-77.85948515']\n",
      "['40.78963995', '-77.85954952']\n",
      "['40.78961849', '-77.85957098']\n",
      "['40.78953266', '-77.85965681']\n",
      "['40.78957558', '-77.85972118']\n",
      "['40.78968287', '-77.85976410']\n",
      "['40.78979015', '-77.85961390']\n",
      "['40.78983307', '-77.85961390']\n",
      "['40.78987598', '-77.85950661']\n",
      "['40.78996181', '-77.85946369']\n",
      "['40.79011202', '-77.85957098']\n",
      "['40.79015493', '-77.85954952']\n",
      "['40.79015493', '-77.85950661']\n",
      "['40.79021931', '-77.85929203']\n",
      "['40.79024076', '-77.85927057']\n",
      "['40.79036951', '-77.85907745']\n",
      "['40.79036951', '-77.85909891']\n",
      "['40.79047680', '-77.85899162']\n",
      "['40.79064846', '-77.85920620']\n",
      "['40.79069138', '-77.85922766']\n",
      "['40.79079866', '-77.85939932']\n",
      "['40.79101324', '-77.85967827']\n",
      "['40.79101324', '-77.85965681']\n",
      "['40.79118490', '-77.85987139']\n",
      "['40.79133511', '-77.86006451']\n",
      "['40.79161406', '-77.85987139']\n",
      "['40.79172134', '-77.85991430']\n",
      "['40.79172134', '-77.85991430']\n",
      "['40.79167843', '-77.86004305']\n",
      "['40.79159260', '-77.86015034']\n",
      "['40.79154968', '-77.86036491']\n",
      "['40.79169989', '-77.86055803']\n",
      "['40.79185009', '-77.86075115']\n",
      "['40.79191446', '-77.86081553']\n",
      "['40.79189301', '-77.86083698']\n",
      "['40.79169989', '-77.86060095']\n",
      "['40.79161406', '-77.86045074']\n",
      "['40.79159260', '-77.86045074']\n",
      "['40.79135656', '-77.86012888']\n",
      "['40.79112053', '-77.85982847']\n",
      "['40.79086304', '-77.85950661']\n",
      "['40.79075575', '-77.85935640']\n",
      "['40.79051971', '-77.85905600']\n",
      "['40.79045534', '-77.85894871']\n",
      "['40.79045534', '-77.85894871']\n",
      "['40.79032660', '-77.85877705']\n",
      "['40.79017639', '-77.85858393']\n",
      "['40.79019785', '-77.85862684']\n",
      "['40.79034805', '-77.85881996']\n",
      "['40.79024076', '-77.85903454']\n",
      "['40.79021931', '-77.85905600']\n",
      "['40.79024076', '-77.85905600']\n",
      "['40.79021931', '-77.85905600']\n",
      "['40.79015493', '-77.85914183']\n",
      "['40.79002619', '-77.85931349']\n",
      "['40.78987598', '-77.85952806']\n",
      "['40.78966141', '-77.85972118']\n",
      "['40.78959703', '-77.85957098']\n",
      "['40.78966141', '-77.85950661']\n"
     ]
    }
   ],
   "source": [
    "## Start Code\n",
    "\n",
    "import csv\n",
    "def coord(file):\n",
    "    f = csv.reader(file)\n",
    "    for line in f:\n",
    "        print(line[2:4])\n",
    "\n",
    "with open(\"./data/gps.csv\",\"r\") as f:\n",
    "    coord(f)\n",
    "\n",
    "\n",
    "## End Code"
   ]
  },
  {
   "cell_type": "markdown",
   "metadata": {},
   "source": [
    "### Activity 3\n",
    "\n",
    "1. Create an array of 5 values between 5 to 10 and remove 1,2,4 index value from the array. \n",
    "2. Create an empty array having 10 values and assign half values as 10 and half of them as 20.\n",
    "3. Write a function that takes as input a 2-D ndarray and scale the last row and column by 2.5."
   ]
  },
  {
   "cell_type": "code",
   "execution_count": 37,
   "metadata": {},
   "outputs": [
    {
     "name": "stdout",
     "output_type": "stream",
     "text": [
      "[ 5  6  7  8  9 10]\n",
      "[ 5  8 10]\n",
      "[10. 10. 10. 10. 10. 20. 20. 20. 20. 20.]\n",
      "[[ 1.   2. ]\n",
      " [ 7.5 10. ]]\n"
     ]
    }
   ],
   "source": [
    "# Start Code\n",
    "\n",
    "import numpy as np\n",
    "#First task\n",
    "arr = np.arange(5,11)\n",
    "print(arr)\n",
    "arr= np.delete(arr,(1,2,4))\n",
    "print(arr)\n",
    "\n",
    "#Second task\n",
    "v = np.empty(10)\n",
    "v[:5] = 10\n",
    "v[5:] = 20\n",
    "print(v)\n",
    "\n",
    "#Third task\n",
    "\n",
    "def scale(vet):\n",
    "    vet[-1] = vet[-1] * 2.5\n",
    "    print(vet)\n",
    "\n",
    "vv = np.array([[1.,2.],[3.,4.]])\n",
    "scale(vv)\n",
    "\n",
    "# End Code"
   ]
  },
  {
   "cell_type": "markdown",
   "metadata": {},
   "source": [
    "### Activity 4\n",
    "\n",
    "1. Write a function that takes a matrix as input and subtract the mean of each row of a matrix. \n",
    "2. Write a function to find the most frequent value in an array.\n",
    "3. Write a function which creates an  n×n  array with  (i,j) entry equal to  i+j.\n"
   ]
  },
  {
   "cell_type": "code",
   "execution_count": 47,
   "metadata": {},
   "outputs": [
    {
     "name": "stdout",
     "output_type": "stream",
     "text": [
      "[[-1  0  1]\n",
      " [-1  0  1]\n",
      " [-1  0  1]]\n",
      "Most frequent value is 1\n",
      "\n",
      "[[0. 1. 2.]\n",
      " [1. 2. 3.]\n",
      " [2. 3. 4.]]\n"
     ]
    }
   ],
   "source": [
    "# Start Code\n",
    "\n",
    "import numpy as np\n",
    "from scipy import stats\n",
    "\n",
    "#First task\n",
    "def submean(vet):\n",
    "    for i in range(vet.shape[0]):\n",
    "        m = vet[i].mean()\n",
    "        vet[i] = vet[i] - m\n",
    "    print(vet)\n",
    "\n",
    "v = np.array([[1,2,3],[4,5,6],[7,8,9]])\n",
    "submean(v)\n",
    "\n",
    "#Second task\n",
    "def frequentv(vet):\n",
    "    val = stats.mode(vet)\n",
    "    print(f\"Most frequent value is {val.mode[0]}\\n\")\n",
    "\n",
    "vv = np.array([[2,2,2],[1,1,3],[1,2,1]])\n",
    "frequentv(vv)\n",
    "\n",
    "#Third task\n",
    "def carray(vet):\n",
    "    for i in range(vet.shape[0]):\n",
    "        for j in range(vet.shape[0]):\n",
    "            vet[i][j] = i+j\n",
    "    print(vet)\n",
    "vvv = np.empty([3,3])\n",
    "carray(vvv)\n",
    "    \n",
    "#End Code"
   ]
  },
  {
   "cell_type": "markdown",
   "metadata": {},
   "source": [
    "### Activity 5\n",
    "\n",
    "Using the ‘titanic_data_sample' using pandas.\n",
    "\n",
    "1. Find and print top 5 and bottom 5 rows from the data.\n",
    "2. Find the descriptive statistics of age and fare of all passengers.\n",
    "3. Extract passengers who age is below 25 and have survived.\n",
    "4. Extract the number of Female Passengers over 25 and in 1st class."
   ]
  },
  {
   "cell_type": "code",
   "execution_count": null,
   "metadata": {
    "scrolled": true
   },
   "outputs": [],
   "source": [
    "# Start Code\n",
    "\n",
    "\n",
    "\n",
    "# End Code"
   ]
  }
 ],
 "metadata": {
  "kernelspec": {
   "display_name": "Python 3 (ipykernel)",
   "language": "python",
   "name": "python3"
  },
  "language_info": {
   "codemirror_mode": {
    "name": "ipython",
    "version": 3
   },
   "file_extension": ".py",
   "mimetype": "text/x-python",
   "name": "python",
   "nbconvert_exporter": "python",
   "pygments_lexer": "ipython3",
   "version": "3.12.4"
  }
 },
 "nbformat": 4,
 "nbformat_minor": 4
}
