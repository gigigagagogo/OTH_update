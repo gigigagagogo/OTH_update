{
 "cells": [
  {
   "cell_type": "markdown",
   "metadata": {},
   "source": [
    "## Lecture 4 - Programming Activity\n",
    "\n",
    "### Activity 1 - Convert DataFrame\n",
    "\n",
    "Using the **test_assignment_data.csv** file locate in the **data** folder. \n",
    "\n",
    "Task 1 - Lets say we are only interested in population (POP) and total GDP (tcgdp), convert the data frame with “country” as index and POP, tcgdp are columns. \n",
    "\n",
    "Task 2 - Rename POP -> Population and tcgdp-> Total GDP\n",
    "\n",
    "Task 3 - Add a new column 'GDP Percap’ to the existing data frame. \n",
    "\n",
    "|     |Country|POP|TCGDP|\n",
    "|-----|-----|-----|-----|\n",
    "|0|Argentina|37335.653|295072.218690|\n",
    "|1|Australia|19053.186|541804.652100|\n",
    "\n",
    "\n",
    "**HINT:** GDP per capita can be calculated as ratio of Total GDP and Population. "
   ]
  },
  {
   "cell_type": "code",
   "execution_count": null,
   "metadata": {},
   "outputs": [],
   "source": [
    "# Start Code\n",
    "\n",
    "\n",
    "#End Code"
   ]
  },
  {
   "cell_type": "markdown",
   "metadata": {},
   "source": [
    "### Activity 2 - Find Data\n",
    "\n",
    "Using the forest fire data **“forestfires.csv”** and **“ReadMe_forestfire.txt”** under the datafolder.\n",
    "\n",
    "- Find the month and day where “rain” measurement is NOT Zero.\n",
    "- Find the descriptive statistics of “temp” and “wind”.\n",
    "- Find mean temperature for each month and plot it.\n",
    "- Find the month and day with the highest and lowest temperature.\n",
    "- Find the mean temperature at different unique locations (x,y). \n",
    "\n",
    "Data Source: http://archive.ics.uci.edu/ml/datasets/Forest+Fires \n"
   ]
  },
  {
   "cell_type": "code",
   "execution_count": 1,
   "metadata": {},
   "outputs": [],
   "source": [
    "# Start Code\n",
    "\n",
    "\n",
    "\n",
    "#End Code"
   ]
  }
 ],
 "metadata": {
  "kernelspec": {
   "display_name": "Python 3",
   "language": "python",
   "name": "python3"
  },
  "language_info": {
   "codemirror_mode": {
    "name": "ipython",
    "version": 3
   },
   "file_extension": ".py",
   "mimetype": "text/x-python",
   "name": "python",
   "nbconvert_exporter": "python",
   "pygments_lexer": "ipython3",
   "version": "3.6.9"
  }
 },
 "nbformat": 4,
 "nbformat_minor": 4
}
